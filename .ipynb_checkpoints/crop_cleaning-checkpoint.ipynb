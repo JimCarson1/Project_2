{
 "cells": [
  {
   "cell_type": "code",
   "execution_count": 1,
   "metadata": {},
   "outputs": [],
   "source": [
    "import pandas as pd\n",
    "from helper import unzip_gz, zip_gz\n",
    "import pandas as pd\n",
    "import numpy as np\n",
    "import gzip\n",
    "import matplotlib.pyplot as plt\n",
    "import seaborn as sns"
   ]
  },
  {
   "cell_type": "code",
   "execution_count": 2,
   "metadata": {},
   "outputs": [],
   "source": [
    "pd.set_option('display.max_columns', None)"
   ]
  },
  {
   "cell_type": "code",
   "execution_count": 3,
   "metadata": {},
   "outputs": [
    {
     "name": "stderr",
     "output_type": "stream",
     "text": [
      "/var/folders/kh/3tw2vndj0gj3w6nlrv1mggtc0000gn/T/ipykernel_2124/1067033668.py:2: DtypeWarning: Columns (19,20,25) have mixed types. Specify dtype option on import or set low_memory=False.\n",
      "  df = pd.read_csv(f, delimiter='\\t')\n"
     ]
    },
    {
     "data": {
      "text/html": [
       "<div>\n",
       "<style scoped>\n",
       "    .dataframe tbody tr th:only-of-type {\n",
       "        vertical-align: middle;\n",
       "    }\n",
       "\n",
       "    .dataframe tbody tr th {\n",
       "        vertical-align: top;\n",
       "    }\n",
       "\n",
       "    .dataframe thead th {\n",
       "        text-align: right;\n",
       "    }\n",
       "</style>\n",
       "<table border=\"1\" class=\"dataframe\">\n",
       "  <thead>\n",
       "    <tr style=\"text-align: right;\">\n",
       "      <th></th>\n",
       "      <th>SOURCE_DESC</th>\n",
       "      <th>SECTOR_DESC</th>\n",
       "      <th>GROUP_DESC</th>\n",
       "      <th>COMMODITY_DESC</th>\n",
       "      <th>CLASS_DESC</th>\n",
       "      <th>PRODN_PRACTICE_DESC</th>\n",
       "      <th>UTIL_PRACTICE_DESC</th>\n",
       "      <th>STATISTICCAT_DESC</th>\n",
       "      <th>UNIT_DESC</th>\n",
       "      <th>SHORT_DESC</th>\n",
       "      <th>DOMAIN_DESC</th>\n",
       "      <th>DOMAINCAT_DESC</th>\n",
       "      <th>AGG_LEVEL_DESC</th>\n",
       "      <th>STATE_ANSI</th>\n",
       "      <th>STATE_FIPS_CODE</th>\n",
       "      <th>STATE_ALPHA</th>\n",
       "      <th>STATE_NAME</th>\n",
       "      <th>ASD_CODE</th>\n",
       "      <th>ASD_DESC</th>\n",
       "      <th>COUNTY_ANSI</th>\n",
       "      <th>COUNTY_CODE</th>\n",
       "      <th>COUNTY_NAME</th>\n",
       "      <th>REGION_DESC</th>\n",
       "      <th>ZIP_5</th>\n",
       "      <th>WATERSHED_CODE</th>\n",
       "      <th>WATERSHED_DESC</th>\n",
       "      <th>CONGR_DISTRICT_CODE</th>\n",
       "      <th>COUNTRY_CODE</th>\n",
       "      <th>COUNTRY_NAME</th>\n",
       "      <th>LOCATION_DESC</th>\n",
       "      <th>YEAR</th>\n",
       "      <th>FREQ_DESC</th>\n",
       "      <th>BEGIN_CODE</th>\n",
       "      <th>END_CODE</th>\n",
       "      <th>REFERENCE_PERIOD_DESC</th>\n",
       "      <th>WEEK_ENDING</th>\n",
       "      <th>LOAD_TIME</th>\n",
       "      <th>VALUE</th>\n",
       "      <th>CV_%</th>\n",
       "    </tr>\n",
       "  </thead>\n",
       "  <tbody>\n",
       "    <tr>\n",
       "      <th>0</th>\n",
       "      <td>SURVEY</td>\n",
       "      <td>CROPS</td>\n",
       "      <td>FIELD CROPS</td>\n",
       "      <td>SOYBEANS</td>\n",
       "      <td>ALL CLASSES</td>\n",
       "      <td>ALL PRODUCTION PRACTICES</td>\n",
       "      <td>ALL UTILIZATION PRACTICES</td>\n",
       "      <td>YIELD</td>\n",
       "      <td>BU / ACRE</td>\n",
       "      <td>SOYBEANS - YIELD, MEASURED IN BU / ACRE</td>\n",
       "      <td>TOTAL</td>\n",
       "      <td>NOT SPECIFIED</td>\n",
       "      <td>COUNTY</td>\n",
       "      <td>26.0</td>\n",
       "      <td>26</td>\n",
       "      <td>MI</td>\n",
       "      <td>MICHIGAN</td>\n",
       "      <td>70.0</td>\n",
       "      <td>SOUTHWEST</td>\n",
       "      <td>27.0</td>\n",
       "      <td>27.0</td>\n",
       "      <td>CASS</td>\n",
       "      <td>NaN</td>\n",
       "      <td>NaN</td>\n",
       "      <td>0.0</td>\n",
       "      <td>NaN</td>\n",
       "      <td>NaN</td>\n",
       "      <td>9000.0</td>\n",
       "      <td>UNITED STATES</td>\n",
       "      <td>MICHIGAN, SOUTHWEST, CASS</td>\n",
       "      <td>1972</td>\n",
       "      <td>ANNUAL</td>\n",
       "      <td>0</td>\n",
       "      <td>0</td>\n",
       "      <td>YEAR</td>\n",
       "      <td>NaN</td>\n",
       "      <td>2012-01-01 00:00:00</td>\n",
       "      <td>23.1</td>\n",
       "      <td>NaN</td>\n",
       "    </tr>\n",
       "    <tr>\n",
       "      <th>1</th>\n",
       "      <td>SURVEY</td>\n",
       "      <td>CROPS</td>\n",
       "      <td>FIELD CROPS</td>\n",
       "      <td>SOYBEANS</td>\n",
       "      <td>ALL CLASSES</td>\n",
       "      <td>ALL PRODUCTION PRACTICES</td>\n",
       "      <td>ON FARM</td>\n",
       "      <td>STOCKS</td>\n",
       "      <td>BU</td>\n",
       "      <td>SOYBEANS, ON FARM - STOCKS, MEASURED IN BU</td>\n",
       "      <td>TOTAL</td>\n",
       "      <td>NOT SPECIFIED</td>\n",
       "      <td>STATE</td>\n",
       "      <td>47.0</td>\n",
       "      <td>47</td>\n",
       "      <td>TN</td>\n",
       "      <td>TENNESSEE</td>\n",
       "      <td>NaN</td>\n",
       "      <td>NaN</td>\n",
       "      <td>NaN</td>\n",
       "      <td>NaN</td>\n",
       "      <td>NaN</td>\n",
       "      <td>NaN</td>\n",
       "      <td>NaN</td>\n",
       "      <td>0.0</td>\n",
       "      <td>NaN</td>\n",
       "      <td>NaN</td>\n",
       "      <td>9000.0</td>\n",
       "      <td>UNITED STATES</td>\n",
       "      <td>TENNESSEE</td>\n",
       "      <td>1965</td>\n",
       "      <td>POINT IN TIME</td>\n",
       "      <td>12</td>\n",
       "      <td>12</td>\n",
       "      <td>FIRST OF DEC</td>\n",
       "      <td>NaN</td>\n",
       "      <td>2012-01-01 00:00:00</td>\n",
       "      <td>2,236,000</td>\n",
       "      <td>NaN</td>\n",
       "    </tr>\n",
       "    <tr>\n",
       "      <th>2</th>\n",
       "      <td>SURVEY</td>\n",
       "      <td>CROPS</td>\n",
       "      <td>FIELD CROPS</td>\n",
       "      <td>SUGARBEETS</td>\n",
       "      <td>ALL CLASSES</td>\n",
       "      <td>ALL PRODUCTION PRACTICES</td>\n",
       "      <td>ALL UTILIZATION PRACTICES</td>\n",
       "      <td>SUCROSE</td>\n",
       "      <td>PCT</td>\n",
       "      <td>SUGARBEETS - SUCROSE, MEASURED IN PCT</td>\n",
       "      <td>TOTAL</td>\n",
       "      <td>NOT SPECIFIED</td>\n",
       "      <td>COUNTY</td>\n",
       "      <td>39.0</td>\n",
       "      <td>39</td>\n",
       "      <td>OH</td>\n",
       "      <td>OHIO</td>\n",
       "      <td>10.0</td>\n",
       "      <td>NORTHWEST</td>\n",
       "      <td>137.0</td>\n",
       "      <td>137.0</td>\n",
       "      <td>PUTNAM</td>\n",
       "      <td>NaN</td>\n",
       "      <td>NaN</td>\n",
       "      <td>0.0</td>\n",
       "      <td>NaN</td>\n",
       "      <td>NaN</td>\n",
       "      <td>9000.0</td>\n",
       "      <td>UNITED STATES</td>\n",
       "      <td>OHIO, NORTHWEST, PUTNAM</td>\n",
       "      <td>1983</td>\n",
       "      <td>ANNUAL</td>\n",
       "      <td>0</td>\n",
       "      <td>0</td>\n",
       "      <td>YEAR</td>\n",
       "      <td>NaN</td>\n",
       "      <td>2012-01-01 00:00:00</td>\n",
       "      <td>16.26</td>\n",
       "      <td>NaN</td>\n",
       "    </tr>\n",
       "    <tr>\n",
       "      <th>3</th>\n",
       "      <td>SURVEY</td>\n",
       "      <td>CROPS</td>\n",
       "      <td>FIELD CROPS</td>\n",
       "      <td>HAY</td>\n",
       "      <td>ALL CLASSES</td>\n",
       "      <td>ALL PRODUCTION PRACTICES</td>\n",
       "      <td>ALL UTILIZATION PRACTICES</td>\n",
       "      <td>PRODUCTION</td>\n",
       "      <td>TONS</td>\n",
       "      <td>HAY - PRODUCTION, MEASURED IN TONS</td>\n",
       "      <td>TOTAL</td>\n",
       "      <td>NOT SPECIFIED</td>\n",
       "      <td>COUNTY</td>\n",
       "      <td>29.0</td>\n",
       "      <td>29</td>\n",
       "      <td>MO</td>\n",
       "      <td>MISSOURI</td>\n",
       "      <td>10.0</td>\n",
       "      <td>NORTHWEST</td>\n",
       "      <td>3.0</td>\n",
       "      <td>3.0</td>\n",
       "      <td>ANDREW</td>\n",
       "      <td>NaN</td>\n",
       "      <td>NaN</td>\n",
       "      <td>0.0</td>\n",
       "      <td>NaN</td>\n",
       "      <td>NaN</td>\n",
       "      <td>9000.0</td>\n",
       "      <td>UNITED STATES</td>\n",
       "      <td>MISSOURI, NORTHWEST, ANDREW</td>\n",
       "      <td>1992</td>\n",
       "      <td>ANNUAL</td>\n",
       "      <td>0</td>\n",
       "      <td>0</td>\n",
       "      <td>YEAR</td>\n",
       "      <td>NaN</td>\n",
       "      <td>2012-01-01 00:00:00</td>\n",
       "      <td>49,500</td>\n",
       "      <td>NaN</td>\n",
       "    </tr>\n",
       "    <tr>\n",
       "      <th>4</th>\n",
       "      <td>SURVEY</td>\n",
       "      <td>CROPS</td>\n",
       "      <td>FIELD CROPS</td>\n",
       "      <td>CORN</td>\n",
       "      <td>ALL CLASSES</td>\n",
       "      <td>ALL PRODUCTION PRACTICES</td>\n",
       "      <td>SILAGE</td>\n",
       "      <td>PRODUCTION</td>\n",
       "      <td>TONS</td>\n",
       "      <td>CORN, SILAGE - PRODUCTION, MEASURED IN TONS</td>\n",
       "      <td>TOTAL</td>\n",
       "      <td>NOT SPECIFIED</td>\n",
       "      <td>COUNTY</td>\n",
       "      <td>36.0</td>\n",
       "      <td>36</td>\n",
       "      <td>NY</td>\n",
       "      <td>NEW YORK</td>\n",
       "      <td>50.0</td>\n",
       "      <td>CENTRAL</td>\n",
       "      <td>23.0</td>\n",
       "      <td>23.0</td>\n",
       "      <td>CORTLAND</td>\n",
       "      <td>NaN</td>\n",
       "      <td>NaN</td>\n",
       "      <td>0.0</td>\n",
       "      <td>NaN</td>\n",
       "      <td>NaN</td>\n",
       "      <td>9000.0</td>\n",
       "      <td>UNITED STATES</td>\n",
       "      <td>NEW YORK, CENTRAL, CORTLAND</td>\n",
       "      <td>1991</td>\n",
       "      <td>ANNUAL</td>\n",
       "      <td>0</td>\n",
       "      <td>0</td>\n",
       "      <td>YEAR</td>\n",
       "      <td>NaN</td>\n",
       "      <td>2012-01-01 00:00:00</td>\n",
       "      <td>184,200</td>\n",
       "      <td>NaN</td>\n",
       "    </tr>\n",
       "  </tbody>\n",
       "</table>\n",
       "</div>"
      ],
      "text/plain": [
       "  SOURCE_DESC SECTOR_DESC   GROUP_DESC COMMODITY_DESC   CLASS_DESC  \\\n",
       "0      SURVEY       CROPS  FIELD CROPS       SOYBEANS  ALL CLASSES   \n",
       "1      SURVEY       CROPS  FIELD CROPS       SOYBEANS  ALL CLASSES   \n",
       "2      SURVEY       CROPS  FIELD CROPS     SUGARBEETS  ALL CLASSES   \n",
       "3      SURVEY       CROPS  FIELD CROPS            HAY  ALL CLASSES   \n",
       "4      SURVEY       CROPS  FIELD CROPS           CORN  ALL CLASSES   \n",
       "\n",
       "        PRODN_PRACTICE_DESC         UTIL_PRACTICE_DESC STATISTICCAT_DESC  \\\n",
       "0  ALL PRODUCTION PRACTICES  ALL UTILIZATION PRACTICES             YIELD   \n",
       "1  ALL PRODUCTION PRACTICES                    ON FARM            STOCKS   \n",
       "2  ALL PRODUCTION PRACTICES  ALL UTILIZATION PRACTICES           SUCROSE   \n",
       "3  ALL PRODUCTION PRACTICES  ALL UTILIZATION PRACTICES        PRODUCTION   \n",
       "4  ALL PRODUCTION PRACTICES                     SILAGE        PRODUCTION   \n",
       "\n",
       "   UNIT_DESC                                   SHORT_DESC DOMAIN_DESC  \\\n",
       "0  BU / ACRE      SOYBEANS - YIELD, MEASURED IN BU / ACRE       TOTAL   \n",
       "1         BU   SOYBEANS, ON FARM - STOCKS, MEASURED IN BU       TOTAL   \n",
       "2        PCT        SUGARBEETS - SUCROSE, MEASURED IN PCT       TOTAL   \n",
       "3       TONS           HAY - PRODUCTION, MEASURED IN TONS       TOTAL   \n",
       "4       TONS  CORN, SILAGE - PRODUCTION, MEASURED IN TONS       TOTAL   \n",
       "\n",
       "  DOMAINCAT_DESC AGG_LEVEL_DESC  STATE_ANSI  STATE_FIPS_CODE STATE_ALPHA  \\\n",
       "0  NOT SPECIFIED         COUNTY        26.0               26          MI   \n",
       "1  NOT SPECIFIED          STATE        47.0               47          TN   \n",
       "2  NOT SPECIFIED         COUNTY        39.0               39          OH   \n",
       "3  NOT SPECIFIED         COUNTY        29.0               29          MO   \n",
       "4  NOT SPECIFIED         COUNTY        36.0               36          NY   \n",
       "\n",
       "  STATE_NAME  ASD_CODE   ASD_DESC COUNTY_ANSI COUNTY_CODE COUNTY_NAME  \\\n",
       "0   MICHIGAN      70.0  SOUTHWEST        27.0        27.0        CASS   \n",
       "1  TENNESSEE       NaN        NaN         NaN         NaN         NaN   \n",
       "2       OHIO      10.0  NORTHWEST       137.0       137.0      PUTNAM   \n",
       "3   MISSOURI      10.0  NORTHWEST         3.0         3.0      ANDREW   \n",
       "4   NEW YORK      50.0    CENTRAL        23.0        23.0    CORTLAND   \n",
       "\n",
       "  REGION_DESC  ZIP_5  WATERSHED_CODE WATERSHED_DESC  CONGR_DISTRICT_CODE  \\\n",
       "0         NaN    NaN             0.0            NaN                  NaN   \n",
       "1         NaN    NaN             0.0            NaN                  NaN   \n",
       "2         NaN    NaN             0.0            NaN                  NaN   \n",
       "3         NaN    NaN             0.0            NaN                  NaN   \n",
       "4         NaN    NaN             0.0            NaN                  NaN   \n",
       "\n",
       "   COUNTRY_CODE   COUNTRY_NAME                LOCATION_DESC  YEAR  \\\n",
       "0        9000.0  UNITED STATES    MICHIGAN, SOUTHWEST, CASS  1972   \n",
       "1        9000.0  UNITED STATES                    TENNESSEE  1965   \n",
       "2        9000.0  UNITED STATES      OHIO, NORTHWEST, PUTNAM  1983   \n",
       "3        9000.0  UNITED STATES  MISSOURI, NORTHWEST, ANDREW  1992   \n",
       "4        9000.0  UNITED STATES  NEW YORK, CENTRAL, CORTLAND  1991   \n",
       "\n",
       "       FREQ_DESC  BEGIN_CODE  END_CODE REFERENCE_PERIOD_DESC WEEK_ENDING  \\\n",
       "0         ANNUAL           0         0                  YEAR         NaN   \n",
       "1  POINT IN TIME          12        12          FIRST OF DEC         NaN   \n",
       "2         ANNUAL           0         0                  YEAR         NaN   \n",
       "3         ANNUAL           0         0                  YEAR         NaN   \n",
       "4         ANNUAL           0         0                  YEAR         NaN   \n",
       "\n",
       "             LOAD_TIME      VALUE CV_%  \n",
       "0  2012-01-01 00:00:00       23.1  NaN  \n",
       "1  2012-01-01 00:00:00  2,236,000  NaN  \n",
       "2  2012-01-01 00:00:00      16.26  NaN  \n",
       "3  2012-01-01 00:00:00     49,500  NaN  \n",
       "4  2012-01-01 00:00:00    184,200  NaN  "
      ]
     },
     "execution_count": 3,
     "metadata": {},
     "output_type": "execute_result"
    }
   ],
   "source": [
    "with gzip.open('data/qs.crops_20240926.txt.gz', 'rt') as f:\n",
    "    df = pd.read_csv(f, delimiter='\\t')\n",
    "\n",
    "df.head()"
   ]
  },
  {
   "cell_type": "code",
   "execution_count": 32,
   "metadata": {},
   "outputs": [],
   "source": [
    "df = df.drop(columns=['COUNTRY_NAME', 'COUNTRY_CODE', 'STATE_NAME', 'STATE_ALPHA',\n",
    "                      'STATE_FIPS_CODE', 'STATE_ANSI', 'COUNTY_ANSI', 'COUNTY_CODE',\n",
    "                      'REGION_DESC', 'ZIP_5', 'WATERSHED_DESC', 'CONGR_DISTRICT_CODE',\n",
    "                      'LOAD_TIME', 'CV_%', 'BEGIN_CODE', 'END_CODE', 'WATERSHED_CODE',\n",
    "                      'ASD_CODE', 'SOURCE_DESC', 'SECTOR_DESC', 'GROUP_DESC',\n",
    "                      'UTIL_PRACTICE_DESC', 'WEEK_ENDING', 'COUNTY_NAME', 'ASD_DESC'])\n",
    "df.head(3)"
   ]
  },
  {
   "cell_type": "code",
   "execution_count": 5,
   "metadata": {},
   "outputs": [],
   "source": [
    "crops = [\"WHEAT\", \"CORN\", \"HAY\", \"SOYBEANS\", \"BARLEY\", \"OATS\", \"SORGHUM\", \"COTTON\",\n",
    "         \"BEANS\", \"POTATOES\", \"TOBACCO\", \"PEANUTS\", \"SUNFLOWER\", \"APPLES\", \"RYE\",\n",
    "         \"RICE\", \"PEACHES\", \"TOMATOES\", \"SWEET CORN\", \"PEAS\", \"PEARS\", \"SUGARBEETS\",\n",
    "         \"MELONS\", \"PECANS\", \"BLUEBERRIES\", \"SQUASH\", \"ONIONS\", \"LETTUCE\", \"PEPPERS\",\n",
    "         \"GRAPES\", \"SWEET POTATOES\", \"CHERRIES\", \"STRAWBERRIES\", \"CABBAGE\", \"CUCUMBERS\",\n",
    "         \"ORANGES\", \"RASPBERRIES\", \"PUMPKINS\", \"BLACKBERRIES\", \"PLUMS & PRUNES\", \"CARROTS\",\n",
    "         \"BROCCOLI\", \"SUGARCANE\", \"GARLIC\", \"ASPARAGUS\", \"SPINACH\", \"BEETS\", \"GRAPEFRUIT\",\n",
    "         \"EGGPLANT\", \"APRICOTS\", \"CAULIFLOWER\", \"LEMONS\"]"
   ]
  },
  {
   "cell_type": "code",
   "execution_count": 6,
   "metadata": {},
   "outputs": [],
   "source": [
    "filtered_df = df[df['COMMODITY_DESC'].isin(crops)]"
   ]
  },
  {
   "cell_type": "markdown",
   "metadata": {},
   "source": [
    "### Filter the df to only the 52 crops in the crops list"
   ]
  },
  {
   "cell_type": "code",
   "execution_count": 7,
   "metadata": {},
   "outputs": [],
   "source": [
    "not_units = ['OPERATIONS', 'PCT FAIR', 'PCT VERY POOR', '$ / BU', '$',\n",
    "             '$ / TON', '$ / CWT', 'ACRES', 'PCT POOR', '$ / BOX, PHD EQUIV',\n",
    "             'PCT', '$ / BOX, ON TREE EQUIV', 'NUMBER', 'SQ FT', 'CENTS / BU',\n",
    "             'PCT OF PARITY', 'INDEX', '$, PHD EQUIV', '$ / BOX, FOB',\n",
    "             'PCT BY SIZE GROUP', 'PCT BY GRADE', 'PCT NONE', 'PCT LIGHT',\n",
    "             'PCT MODERATE', 'POINTS / LB', 'PCT OF FARM SALES',\n",
    "             'PCT OF TOTAL STOCKS', 'CUERDAS', 'PCT ACTIVE', 'PCT OF FARM OPERATIONS',\n",
    "             '$ / BOX', '$ / TON, DRY BASIS' ,'REACTIONS SINCE 1984', 'PCT OF PRODUCTION',\n",
    "             'PCT OF MKTG YEAR', '$ / LB', ]\n",
    "\n",
    "for item, value in filtered_df['UNIT_DESC'].value_counts().items():\n",
    "    if value <= 500:\n",
    "        not_units.append(item)"
   ]
  },
  {
   "cell_type": "code",
   "execution_count": 31,
   "metadata": {},
   "outputs": [],
   "source": [
    "df = filtered_df.loc[~filtered_df['UNIT_DESC'].isin(not_units)]\n",
    "\n",
    "for key, value in df['UNIT_DESC'].value_counts().items():\n",
    "    print(key,  value)"
   ]
  },
  {
   "cell_type": "markdown",
   "metadata": {},
   "source": [
    "### Check if all 50 states are in the LOCATION_DESC column"
   ]
  },
  {
   "cell_type": "code",
   "execution_count": 30,
   "metadata": {},
   "outputs": [],
   "source": [
    "all_states = [\n",
    "    \"Alabama\", \"Alaska\", \"Arizona\", \"Arkansas\", \"California\", \"Colorado\", \"Connecticut\", \"Delaware\", \"Florida\",\n",
    "    \"Georgia\", \"Hawaii\", \"Idaho\", \"Illinois\", \"Indiana\", \"Iowa\", \"Kansas\", \"Kentucky\", \"Louisiana\", \"Maine\",\n",
    "    \"Maryland\", \"Massachusetts\", \"Michigan\", \"Minnesota\", \"Mississippi\", \"Missouri\", \"Montana\", \"Nebraska\",\n",
    "    \"Nevada\", \"New Hampshire\", \"New Jersey\", \"New Mexico\", \"New York\", \"North Carolina\", \"North Dakota\",\n",
    "    \"Ohio\", \"Oklahoma\", \"Oregon\", \"Pennsylvania\", \"Rhode Island\", \"South Carolina\", \"South Dakota\", \"Tennessee\",\n",
    "    \"Texas\", \"Utah\", \"Vermont\", \"Virginia\", \"Washington\", \"West Virginia\", \"Wisconsin\", \"Wyoming\"\n",
    "]\n",
    "\n",
    "zip_df = pd.read_csv(\"data/uszips.csv\")\n",
    "zip_df"
   ]
  },
  {
   "cell_type": "code",
   "execution_count": 10,
   "metadata": {},
   "outputs": [],
   "source": [
    "zip_df = zip_df[zip_df['state_name'].isin(all_states)]\n",
    "zip_df = zip_df[['zip', 'state_name']]"
   ]
  },
  {
   "cell_type": "code",
   "execution_count": 11,
   "metadata": {},
   "outputs": [],
   "source": [
    "zip_df['zip'] = zip_df['zip'].astype(str)\n",
    "\n",
    "zip_to_state = dict(zip(zip_df['zip'], zip_df['state_name']))\n",
    "\n",
    "capitalized_states = [item.upper() for item in all_states]"
   ]
  },
  {
   "cell_type": "code",
   "execution_count": 29,
   "metadata": {},
   "outputs": [],
   "source": [
    "def replace_region_with_state(location):\n",
    "    \"\"\"Function that checks if state name is in LOCATION_DESC if the name contains a state name but is not just\n",
    "    the state name it converts it into only the state name. For example OREGON SOUTHWEST DOUGLAS becomes OREGON\"\"\"\n",
    "    for state in capitalized_states:\n",
    "        if state in location:\n",
    "            return state\n",
    "\n",
    "    if location in zip_to_state:\n",
    "        print(f\"Zip:{location} State:{zip_to_state[location].upper()}\")\n",
    "        return zip_to_state[location].upper()\n",
    "\n",
    "    print(f\"NONE {location}\")\n",
    "    return \"NONE\"\n",
    "\n",
    "df['LOCATION_DESC'] = df['LOCATION_DESC'].apply(replace_region_with_state)\n",
    "df['LOCATION_DESC'].value_counts()"
   ]
  },
  {
   "cell_type": "code",
   "execution_count": 13,
   "metadata": {},
   "outputs": [
    {
     "data": {
      "text/plain": [
       "50"
      ]
     },
     "execution_count": 13,
     "metadata": {},
     "output_type": "execute_result"
    }
   ],
   "source": [
    "location_list = []\n",
    "\n",
    "for key in df['LOCATION_DESC'].value_counts().keys():\n",
    "    location_list.append(key)\n",
    "len(location_list)"
   ]
  },
  {
   "cell_type": "code",
   "execution_count": 28,
   "metadata": {},
   "outputs": [],
   "source": [
    "for location in df['LOCATION_DESC'].value_counts().keys():\n",
    "    print(location)"
   ]
  },
  {
   "cell_type": "code",
   "execution_count": 27,
   "metadata": {},
   "outputs": [],
   "source": [
    "df = df[df['LOCATION_DESC'] != \"NONE\"]\n",
    "df['LOCATION_DESC'].value_counts()"
   ]
  },
  {
   "cell_type": "code",
   "execution_count": 16,
   "metadata": {},
   "outputs": [
    {
     "name": "stdout",
     "output_type": "stream",
     "text": [
      "Row: 7,131,741  Column:14\n"
     ]
    }
   ],
   "source": [
    "row, column = df.shape\n",
    "print(f\"Row: {row:,}  Column:{column}\")"
   ]
  },
  {
   "cell_type": "code",
   "execution_count": 17,
   "metadata": {},
   "outputs": [],
   "source": [
    "df = df[(df['YEAR'] >= 1980) & (df['YEAR'] <= 2023)]"
   ]
  },
  {
   "cell_type": "code",
   "execution_count": 25,
   "metadata": {},
   "outputs": [],
   "source": [
    "no_info_crops = []\n",
    "for crop, amount in df['COMMODITY_DESC'].value_counts().items():\n",
    "    if amount <= 1500:\n",
    "        no_info_crops.append(crop)\n",
    "\n",
    "df = df.loc[~df['COMMODITY_DESC'].isin(no_info_crops)]\n",
    "df['COMMODITY_DESC'].value_counts()"
   ]
  },
  {
   "cell_type": "code",
   "execution_count": 26,
   "metadata": {},
   "outputs": [],
   "source": [
    "df = df.drop(columns=['CLASS_DESC', 'CLASS_DESC', 'STATISTICCAT_DESC', 'SHORT_DESC',\n",
    "                      'DOMAIN_DESC', 'DOMAINCAT_DESC', 'AGG_LEVEL_DESC', 'FREQ_DESC',\n",
    "                      'REFERENCE_PERIOD_DESC', 'PRODN_PRACTICE_DESC'])\n",
    "df.head()"
   ]
  },
  {
   "cell_type": "code",
   "execution_count": 20,
   "metadata": {},
   "outputs": [
    {
     "name": "stdout",
     "output_type": "stream",
     "text": [
      "<class 'pandas.core.frame.DataFrame'>\n",
      "Index: 2731136 entries, 16 to 22309639\n",
      "Data columns (total 5 columns):\n",
      " #   Column          Dtype  \n",
      "---  ------          -----  \n",
      " 0   COMMODITY_DESC  object \n",
      " 1   UNIT_DESC       object \n",
      " 2   LOCATION_DESC   object \n",
      " 3   YEAR            int64  \n",
      " 4   VALUE           float64\n",
      "dtypes: float64(1), int64(1), object(3)\n",
      "memory usage: 125.0+ MB\n"
     ]
    }
   ],
   "source": [
    "df['VALUE'] = pd.to_numeric(df['VALUE'], errors='coerce')\n",
    "df = df.dropna(subset=['VALUE'])\n",
    "df.info()"
   ]
  },
  {
   "cell_type": "code",
   "execution_count": 21,
   "metadata": {},
   "outputs": [
    {
     "name": "stderr",
     "output_type": "stream",
     "text": [
      "/Users/masongalusha/anaconda3/lib/python3.11/site-packages/pandas/core/arraylike.py:399: RuntimeWarning: divide by zero encountered in log1p\n",
      "  result = getattr(ufunc, method)(*inputs, **kwargs)\n"
     ]
    }
   ],
   "source": [
    "# Apply log transformation to 'VALUE'\n",
    "# Use np.log1p to handle zero values safely\n",
    "df['log_value'] = np.log1p(df['VALUE'])\n",
    "\n",
    "# Compute group-wise lower and upper percentiles on log-transformed data\n",
    "# Here, we're using the 5th and 95th percentiles\n",
    "df['lower_percentile'] = df.groupby(['COMMODITY_DESC', 'UNIT_DESC'])['log_value'].transform(lambda x: x.quantile(0.05))\n",
    "df['upper_percentile'] = df.groupby(['COMMODITY_DESC', 'UNIT_DESC'])['log_value'].transform(lambda x: x.quantile(0.95))\n",
    "\n",
    "# Clip log-transformed values to the percentile range\n",
    "df['clipped_log_value'] = df['log_value'].clip(lower=df['lower_percentile'], upper=df['upper_percentile'])\n",
    "\n",
    "# Apply the normalization formula\n",
    "df['normalized_value'] = (\n",
    "    (df['clipped_log_value'] - df['lower_percentile']) /\n",
    "    (df['upper_percentile'] - df['lower_percentile'])\n",
    ") * 100\n",
    "\n",
    "# Handle division by zero when lower_percentile == upper_percentile\n",
    "equal_percentile_mask = df['upper_percentile'] == df['lower_percentile']\n",
    "df.loc[equal_percentile_mask, 'normalized_value'] = df.loc[equal_percentile_mask, 'VALUE'].apply(lambda x: 100 if x != 0 else 0)\n",
    "\n",
    "# Clip normalized values to be between 0 and 100\n",
    "df['normalized_value'] = df['normalized_value'].clip(lower=0, upper=100)"
   ]
  },
  {
   "cell_type": "code",
   "execution_count": 22,
   "metadata": {},
   "outputs": [
    {
     "name": "stdout",
     "output_type": "stream",
     "text": [
      "2,731,136\n"
     ]
    }
   ],
   "source": [
    "print(f\"{df.shape[0]:,}\")"
   ]
  },
  {
   "cell_type": "code",
   "execution_count": 23,
   "metadata": {},
   "outputs": [
    {
     "data": {
      "text/html": [
       "<div>\n",
       "<style scoped>\n",
       "    .dataframe tbody tr th:only-of-type {\n",
       "        vertical-align: middle;\n",
       "    }\n",
       "\n",
       "    .dataframe tbody tr th {\n",
       "        vertical-align: top;\n",
       "    }\n",
       "\n",
       "    .dataframe thead th {\n",
       "        text-align: right;\n",
       "    }\n",
       "</style>\n",
       "<table border=\"1\" class=\"dataframe\">\n",
       "  <thead>\n",
       "    <tr style=\"text-align: right;\">\n",
       "      <th></th>\n",
       "      <th>COMMODITY_DESC</th>\n",
       "      <th>UNIT_DESC</th>\n",
       "      <th>LOCATION_DESC</th>\n",
       "      <th>YEAR</th>\n",
       "      <th>normalized_value</th>\n",
       "    </tr>\n",
       "  </thead>\n",
       "  <tbody>\n",
       "    <tr>\n",
       "      <th>16</th>\n",
       "      <td>SOYBEANS</td>\n",
       "      <td>BU / ACRE</td>\n",
       "      <td>INDIANA</td>\n",
       "      <td>2014</td>\n",
       "      <td>92.499630</td>\n",
       "    </tr>\n",
       "    <tr>\n",
       "      <th>35</th>\n",
       "      <td>HAY</td>\n",
       "      <td>TONS / ACRE</td>\n",
       "      <td>KANSAS</td>\n",
       "      <td>2001</td>\n",
       "      <td>50.044943</td>\n",
       "    </tr>\n",
       "    <tr>\n",
       "      <th>36</th>\n",
       "      <td>SUGARBEETS</td>\n",
       "      <td>PCT GOOD</td>\n",
       "      <td>IDAHO</td>\n",
       "      <td>2022</td>\n",
       "      <td>55.783833</td>\n",
       "    </tr>\n",
       "    <tr>\n",
       "      <th>45</th>\n",
       "      <td>COTTON</td>\n",
       "      <td>PCT EXCELLENT</td>\n",
       "      <td>CALIFORNIA</td>\n",
       "      <td>2010</td>\n",
       "      <td>37.311430</td>\n",
       "    </tr>\n",
       "    <tr>\n",
       "      <th>48</th>\n",
       "      <td>HAY</td>\n",
       "      <td>TONS / ACRE</td>\n",
       "      <td>MINNESOTA</td>\n",
       "      <td>1989</td>\n",
       "      <td>33.524074</td>\n",
       "    </tr>\n",
       "  </tbody>\n",
       "</table>\n",
       "</div>"
      ],
      "text/plain": [
       "   COMMODITY_DESC      UNIT_DESC LOCATION_DESC  YEAR  normalized_value\n",
       "16       SOYBEANS      BU / ACRE       INDIANA  2014         92.499630\n",
       "35            HAY    TONS / ACRE        KANSAS  2001         50.044943\n",
       "36     SUGARBEETS       PCT GOOD         IDAHO  2022         55.783833\n",
       "45         COTTON  PCT EXCELLENT    CALIFORNIA  2010         37.311430\n",
       "48            HAY    TONS / ACRE     MINNESOTA  1989         33.524074"
      ]
     },
     "execution_count": 23,
     "metadata": {},
     "output_type": "execute_result"
    }
   ],
   "source": [
    "df = df.drop(columns=['log_value', 'lower_percentile', 'upper_percentile', 'clipped_log_value', 'VALUE'])\n",
    "df.head()"
   ]
  },
  {
   "cell_type": "code",
   "execution_count": 24,
   "metadata": {},
   "outputs": [],
   "source": [
    "zip_gz(df, \"data/clean_crop.gz\")"
   ]
  },
  {
   "cell_type": "code",
   "execution_count": null,
   "metadata": {},
   "outputs": [],
   "source": []
  }
 ],
 "metadata": {
  "kernelspec": {
   "display_name": "base",
   "language": "python",
   "name": "python3"
  },
  "language_info": {
   "codemirror_mode": {
    "name": "ipython",
    "version": 3
   },
   "file_extension": ".py",
   "mimetype": "text/x-python",
   "name": "python",
   "nbconvert_exporter": "python",
   "pygments_lexer": "ipython3",
   "version": "3.11.5"
  }
 },
 "nbformat": 4,
 "nbformat_minor": 2
}
